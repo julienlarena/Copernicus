{
 "cells": [
  {
   "cell_type": "markdown",
   "metadata": {},
   "source": [
    "# The Copernicus Algorithm"
   ]
  },
  {
   "cell_type": "markdown",
   "metadata": {},
   "source": [
    "This is a collection of scripts written to fullfil the rerquirements of my Ph.D. The Copernicus algorithm is meant to reconstruct the background geometry of a the Universe without invoking the Copernicus principle (CP). As a result it can be used to test the CP. At the time of writing current data were not sufficient to confirm or refute the validity of the CP (see <cite data-cite='bester2'> [Bester, 2015 </cite> ](http://inspirehep.net/search?p=find+eprint+1506.01591)). The code is therefore made available albeit with no gaurantee that it is able to perform its advertised duty.  "
   ]
  },
  {
   "cell_type": "markdown",
   "metadata": {},
   "source": [
    "## Compiling the Fortran modules"
   ]
  },
  {
   "cell_type": "markdown",
   "metadata": {},
   "source": [
    "After downloading the Copernicus directory we first need to compile a few files using f2py. The Fortran modules do not depend on any existing libraries so there shouldn't be any dependency issues (except for having a working versions of numpy and scipy installed). Open the terminal in the folder called fortran_mods and run the command"
   ]
  },
  {
   "cell_type": "raw",
   "metadata": {},
   "source": [
    "$ f2py -c -m CIVP solver.f90"
   ]
  },
  {
   "cell_type": "markdown",
   "metadata": {},
   "source": [
    "You should see some output. If it ends with"
   ]
  },
  {
   "cell_type": "raw",
   "metadata": {},
   "source": [
    "$ Removing build directory ..."
   ]
  },
  {
   "cell_type": "markdown",
   "metadata": {},
   "source": [
    "we can be sure the code compliled without any errors (ignore the warnings). You should have a file called CIVP.so or CIVP.pyd depending on whether you are running Linux or Windows respectively. This file is automatically imported by the various scripts, it is the main module performing the integrations. If you renamed the CIVP module at compile time be sure to change the name in the corresponding import list of the file you are trying to run. The usage documentation of the CIVP module can be inspected by running the following command inside the python environment "
   ]
  },
  {
   "cell_type": "raw",
   "metadata": {},
   "source": [
    ">>> CIVP.subroutine_name.__doc__"
   ]
  },
  {
   "cell_type": "markdown",
   "metadata": {},
   "source": [
    "where subroutine_name is the name of the subroutine you need documentation about. This will work for any module compiled with f2py. Alternatively if you are running an IDE with an object inspector (such as Spyder2) you can simply import the module and type CIVP.subroutine_name into the object inspector's text box. To make sure everything is working as expected we will have a quick look at the convergence diagnostics. "
   ]
  },
  {
   "cell_type": "markdown",
   "metadata": {},
   "source": [
    "## Convergence diagnostic"
   ]
  },
  {
   "cell_type": "markdown",
   "metadata": {},
   "source": [
    "The convergence test is rather uncreatively named Test_Convergence.py. First lets set up the environment to render figures inline and ignore irritating warning messages with"
   ]
  },
  {
   "cell_type": "code",
   "execution_count": 1,
   "metadata": {
    "collapsed": false
   },
   "outputs": [
    {
     "name": "stderr",
     "output_type": "stream",
     "text": [
      "/home/landman/virtualenvmts/fundamentals/local/lib/python2.7/site-packages/matplotlib/font_manager.py:273: UserWarning: Matplotlib is building the font cache using fc-list. This may take a moment.\n",
      "  warnings.warn('Matplotlib is building the font cache using fc-list. This may take a moment.')\n"
     ]
    }
   ],
   "source": [
    "%matplotlib inline\n",
    "import warnings\n",
    "warnings.filterwarnings('ignore')"
   ]
  },
  {
   "cell_type": "markdown",
   "metadata": {},
   "source": [
    "Next we run the program using ipython's run command"
   ]
  },
  {
   "cell_type": "code",
   "execution_count": 2,
   "metadata": {
    "collapsed": false
   },
   "outputs": [
    {
     "name": "stdout",
     "output_type": "stream",
     "text": [
      "0\n",
      "1\n",
      "2\n",
      "3\n",
      "4\n",
      "5\n",
      "6\n",
      "7\n",
      "8\n",
      "9\n",
      "2.00165909672 0.000270134918048\n",
      "2.00086519607 0.00015821846768\n",
      "2.03154354552 0.0220669208468\n",
      "1.99607410489 0.0518159616906\n",
      "2.01947755545 0.0515671815642\n",
      "1.99835358371 0.171809694249\n",
      "33.2308293199 0.927749175033\n",
      "3.18473532792 0.708470487553\n"
     ]
    }
   ],
   "source": [
    "run Test_Convergence.py"
   ]
  },
  {
   "cell_type": "markdown",
   "metadata": {},
   "source": [
    "The first bit of output is just the progress report, the numbers indicate the sample number. Each sample is integrated on three grids, each time successively halving the spatial grid spacing. The solution on these three grids is then used to perform a three level self convergence test. The output following the progress report is just the average convergence factors as well as their standard deviations. Clearly the code is at least second order. (Include the consistency check figures).  "
   ]
  },
  {
   "cell_type": "markdown",
   "metadata": {},
   "source": [
    "## Example usage (simple)"
   ]
  },
  {
   "cell_type": "markdown",
   "metadata": {},
   "source": [
    "The directories in the Copernicus folder have been structured to allow for easy customisation (at least I hope so). Running a simulation is as easy as running the sampler.py script. This script uses the classes contained in the Master.py file to implement an MCMC that infers the joint distribution of $H_{\\parallel}(z)$, $\\rho(z)$ and $\\Lambda$ compatible with the data. Before getting into the details of how to modify the input data let run the script to see it in action"
   ]
  },
  {
   "cell_type": "code",
   "execution_count": null,
   "metadata": {
    "collapsed": false
   },
   "outputs": [],
   "source": [
    "run sampler.py"
   ]
  },
  {
   "cell_type": "markdown",
   "metadata": {},
   "source": [
    "The outputs of this script are, firstly another progress report indicating how many samples have been drawn, secondly the acceptance rate of the MCMC and, finally, a file called samps.npz in the ProcessedData directory which contains the quantities of interrest. We will go into the details of how to plot these shortly. First lets see how to change the config inside sampler.py. \n",
    "\n",
    "To run an actual simulation you will need to modify a couple of files. Firstly the RawData directory contains the raw data files as .txt files that are to be used in the simulation. This includes the data to set the priors and to perform inference. You can use any combination of data as long as you modify the Master.py file to load it. The main class implementing the algorithm is the SSU class (for Spherically Symmetric Universe) in the Master.py file. This class has a method called load_Dat() that should be modified to load the relevant data. There are at least two compulsary data sets viz. the longitudinal expansion rate $H_{\\parallel}(z)$ and the matter density $\\rho(z)$. The data for these two functions will be used to set the priors but they may also be used for inference. If you want to incorporate a specific data set to perform inference with you should modify the get_Chi2() method to compute the $\\chi^2$ for that particular data set and add it to the others. If you are using an observable that I have not yet computed you will have to add a method that computes that observable using the output from the CIVP. But more on this later. \n"
   ]
  },
  {
   "cell_type": "code",
   "execution_count": null,
   "metadata": {
    "collapsed": false
   },
   "outputs": [],
   "source": []
  }
 ],
 "metadata": {
  "kernelspec": {
   "display_name": "Python 2",
   "language": "python",
   "name": "python2"
  },
  "language_info": {
   "codemirror_mode": {
    "name": "ipython",
    "version": 2
   },
   "file_extension": ".py",
   "mimetype": "text/x-python",
   "name": "python",
   "nbconvert_exporter": "python",
   "pygments_lexer": "ipython2",
   "version": "2.7.6"
  }
 },
 "nbformat": 4,
 "nbformat_minor": 0
}
