{
 "metadata": {
  "name": ""
 },
 "nbformat": 3,
 "nbformat_minor": 0,
 "worksheets": [
  {
   "cells": [
    {
     "cell_type": "heading",
     "level": 1,
     "metadata": {},
     "source": [
      "The Copernicus Algorithm"
     ]
    },
    {
     "cell_type": "heading",
     "level": 2,
     "metadata": {},
     "source": [
      "Compiling the Fortran modules"
     ]
    },
    {
     "cell_type": "markdown",
     "metadata": {},
     "source": [
      "After downloading the Copernicus directory we first need to compile a few files using f2py. Open the terminal in the folder called fortran_mods and run the command"
     ]
    },
    {
     "cell_type": "raw",
     "metadata": {},
     "source": [
      "$ f2py -c -m CIVP solver.f90"
     ]
    },
    {
     "cell_type": "markdown",
     "metadata": {},
     "source": [
      "You should see quite a bit of output. If it ends with"
     ]
    },
    {
     "cell_type": "raw",
     "metadata": {},
     "source": [
      "$ Removing build directory /tmp/tmplj2X33"
     ]
    },
    {
     "cell_type": "markdown",
     "metadata": {},
     "source": [
      "we can be sure the code compliled without any errors (ignore the warnings for now). You should have a file called CIVP.so or CIVP.pyd depending on whether you are running Linux or Windows respectively. This file is automatically imported by Master.py (if you renamed the CIVP module at compile time be sure to change the name in the Master.py import list). The usage documentation of the CIVP module can be inspected by running the following command inside the python environment "
     ]
    },
    {
     "cell_type": "raw",
     "metadata": {},
     "source": [
      ">>> CIVP.__doc__"
     ]
    },
    {
     "cell_type": "markdown",
     "metadata": {},
     "source": [
      "This will work for any module compiled with f2py. Next we look at the convergence diagnostics to get a feel for the code."
     ]
    },
    {
     "cell_type": "heading",
     "level": 2,
     "metadata": {},
     "source": [
      "Convergence diagnostic"
     ]
    },
    {
     "cell_type": "markdown",
     "metadata": {},
     "source": [
      "The convergence test is rather uncreatively named Test_Convergence.py. To render figures inline we set up the plotting environment with"
     ]
    },
    {
     "cell_type": "code",
     "collapsed": false,
     "input": [
      "%matplotlib inline"
     ],
     "language": "python",
     "metadata": {},
     "outputs": [],
     "prompt_number": 1
    },
    {
     "cell_type": "markdown",
     "metadata": {},
     "source": [
      "Next we run the program using ipython's magic %run command"
     ]
    },
    {
     "cell_type": "code",
     "collapsed": false,
     "input": [
      "run Test_Convergence.py"
     ],
     "language": "python",
     "metadata": {},
     "outputs": [
      {
       "output_type": "stream",
       "stream": "stdout",
       "text": [
        "0\n",
        "1"
       ]
      },
      {
       "output_type": "stream",
       "stream": "stdout",
       "text": [
        "\n",
        "2"
       ]
      },
      {
       "output_type": "stream",
       "stream": "stdout",
       "text": [
        "\n",
        "3"
       ]
      },
      {
       "output_type": "stream",
       "stream": "stdout",
       "text": [
        "\n",
        "4"
       ]
      },
      {
       "output_type": "stream",
       "stream": "stdout",
       "text": [
        "\n",
        "5"
       ]
      },
      {
       "output_type": "stream",
       "stream": "stdout",
       "text": [
        "\n",
        "6"
       ]
      },
      {
       "output_type": "stream",
       "stream": "stdout",
       "text": [
        "\n",
        "7"
       ]
      },
      {
       "output_type": "stream",
       "stream": "stdout",
       "text": [
        "\n",
        "8"
       ]
      },
      {
       "output_type": "stream",
       "stream": "stdout",
       "text": [
        "\n",
        "9"
       ]
      },
      {
       "output_type": "stream",
       "stream": "stdout",
       "text": [
        "\n",
        "2.00166202924"
       ]
      },
      {
       "output_type": "stream",
       "stream": "stdout",
       "text": [
        " 0.00033602481087\n",
        "2.00102416059 0.000233696041684\n",
        "2.04600794127 0.027361888466\n",
        "2.01482585503 0.0328174602853\n",
        "2.0315907201 0.0318843826412\n",
        "1.97099079273 0.081554119795\n",
        "33.1372828381 1.64927232789\n",
        "3.38815400612 1.23362011238\n"
       ]
      },
      {
       "output_type": "stream",
       "stream": "stderr",
       "text": [
        "Test_Convergence.py:70: RuntimeWarning: invalid value encountered in sqrt\n",
        "  self.srtW = diag(nan_to_num(sqrt(nan_to_num(self.W))))\n"
       ]
      }
     ],
     "prompt_number": 2
    },
    {
     "cell_type": "code",
     "collapsed": false,
     "input": [],
     "language": "python",
     "metadata": {},
     "outputs": []
    }
   ],
   "metadata": {}
  }
 ]
}