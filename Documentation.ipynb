{
 "metadata": {
  "name": ""
 },
 "nbformat": 3,
 "nbformat_minor": 0,
 "worksheets": [
  {
   "cells": [
    {
     "cell_type": "heading",
     "level": 1,
     "metadata": {},
     "source": [
      "The Copernicus Algorithm"
     ]
    },
    {
     "cell_type": "heading",
     "level": 2,
     "metadata": {},
     "source": [
      "Compiling the Fortran modules"
     ]
    },
    {
     "cell_type": "markdown",
     "metadata": {},
     "source": [
      "After downloading the Copernicus directory we first need to compile a few files using f2py. Open the terminal in the folder called fortran_mods and run the command"
     ]
    },
    {
     "cell_type": "raw",
     "metadata": {},
     "source": [
      "$ f2py -c -m CIVP solver.f90"
     ]
    },
    {
     "cell_type": "markdown",
     "metadata": {},
     "source": [
      "You should see quite a bit of output. If it ends with"
     ]
    },
    {
     "cell_type": "raw",
     "metadata": {},
     "source": [
      "$ Removing build directory /tmp/tmplj2X33"
     ]
    },
    {
     "cell_type": "markdown",
     "metadata": {},
     "source": [
      "we can be sure the code compliled without any errors (ignore the warnings for now). You should have a file called CIVP.so or CIVP.pyd depending on whether you are running Linux or Windows respectively. This file is automatically imported by Master.py (if you renamed the CIVP module at compile time be sure to change the name in the Master.py import list). The usage documentation of the CIVP module can be inspected by running the following command inside the python environment "
     ]
    },
    {
     "cell_type": "raw",
     "metadata": {},
     "source": [
      ">>> CIVP.__doc__"
     ]
    },
    {
     "cell_type": "markdown",
     "metadata": {},
     "source": [
      "This will work for any module compiled with f2py. Next we look at the convergence diagnostics to get a feel for the code."
     ]
    },
    {
     "cell_type": "heading",
     "level": 2,
     "metadata": {},
     "source": [
      "Convergence diagnostic"
     ]
    },
    {
     "cell_type": "markdown",
     "metadata": {},
     "source": [
      "The convergence test is rather uncreatively named Test_Convergence.py. To render figures inline we set up the plotting environment with"
     ]
    },
    {
     "cell_type": "code",
     "collapsed": false,
     "input": [
      "%matplotlib inline"
     ],
     "language": "python",
     "metadata": {},
     "outputs": [],
     "prompt_number": 2
    },
    {
     "cell_type": "markdown",
     "metadata": {},
     "source": [
      "Next we run the program using ipython's magic %run command"
     ]
    },
    {
     "cell_type": "code",
     "collapsed": false,
     "input": [
      "run Test_Convergence.py"
     ],
     "language": "python",
     "metadata": {},
     "outputs": [
      {
       "output_type": "stream",
       "stream": "stdout",
       "text": [
        "800\n"
       ]
      }
     ],
     "prompt_number": 3
    },
    {
     "cell_type": "code",
     "collapsed": false,
     "input": [],
     "language": "python",
     "metadata": {},
     "outputs": []
    }
   ],
   "metadata": {}
  }
 ]
}